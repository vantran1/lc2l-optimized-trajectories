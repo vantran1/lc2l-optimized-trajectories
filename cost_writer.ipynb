{
 "cells": [
  {
   "cell_type": "markdown",
   "metadata": {},
   "source": [
    "# Cost Writer"
   ]
  },
  {
   "cell_type": "markdown",
   "metadata": {},
   "source": [
    "This jupyter notebook is intended to create the necessary outage probability and risk cost grids used to feed into the main jupyter notebook."
   ]
  },
  {
   "cell_type": "markdown",
   "metadata": {},
   "source": [
    "## Importing Packages"
   ]
  },
  {
   "cell_type": "code",
   "execution_count": null,
   "metadata": {},
   "outputs": [],
   "source": [
    "import numpy as np\n",
    "import pandas as pd"
   ]
  },
  {
   "cell_type": "markdown",
   "metadata": {},
   "source": [
    "## Outage Probability"
   ]
  },
  {
   "cell_type": "code",
   "execution_count": 4,
   "metadata": {},
   "outputs": [
    {
     "ename": "KeyboardInterrupt",
     "evalue": "",
     "output_type": "error",
     "traceback": [
      "\u001b[0;31m---------------------------------------------------------------------------\u001b[0m",
      "\u001b[0;31mKeyboardInterrupt\u001b[0m                         Traceback (most recent call last)",
      "Cell \u001b[0;32mIn[4], line 57\u001b[0m\n\u001b[1;32m     55\u001b[0m fspl \u001b[38;5;241m=\u001b[39m fspl_calculation(lat, lon, alt, frequency, airport_tree)\n\u001b[1;32m     56\u001b[0m P_received \u001b[38;5;241m=\u001b[39m P_transmit \u001b[38;5;241m-\u001b[39m fspl\n\u001b[0;32m---> 57\u001b[0m P_outage \u001b[38;5;241m=\u001b[39m \u001b[43mQ\u001b[49m\u001b[43m(\u001b[49m\u001b[43m(\u001b[49m\u001b[43mP_received\u001b[49m\u001b[43m \u001b[49m\u001b[38;5;241;43m-\u001b[39;49m\u001b[43m \u001b[49m\u001b[43mP_threshold\u001b[49m\u001b[43m)\u001b[49m\u001b[43m \u001b[49m\u001b[38;5;241;43m/\u001b[39;49m\u001b[43m \u001b[49m\u001b[43msigma\u001b[49m\u001b[43m)\u001b[49m\n\u001b[1;32m     58\u001b[0m outage_grid[j,i,k] \u001b[38;5;241m=\u001b[39m P_outage\n\u001b[1;32m     59\u001b[0m P_available \u001b[38;5;241m=\u001b[39m \u001b[38;5;241m1\u001b[39m \u001b[38;5;241m-\u001b[39m P_outage\n",
      "Cell \u001b[0;32mIn[4], line 40\u001b[0m, in \u001b[0;36mQ\u001b[0;34m(x)\u001b[0m\n\u001b[1;32m     39\u001b[0m \u001b[38;5;28;01mdef\u001b[39;00m \u001b[38;5;21mQ\u001b[39m(x):\n\u001b[0;32m---> 40\u001b[0m     \u001b[38;5;28;01mreturn\u001b[39;00m \u001b[38;5;241m0.5\u001b[39m \u001b[38;5;241m*\u001b[39m erfc(x \u001b[38;5;241m/\u001b[39m \u001b[43mnp\u001b[49m\u001b[38;5;241;43m.\u001b[39;49m\u001b[43msqrt\u001b[49m\u001b[43m(\u001b[49m\u001b[38;5;241;43m2\u001b[39;49m\u001b[43m)\u001b[49m)\n",
      "\u001b[0;31mKeyboardInterrupt\u001b[0m: "
     ]
    }
   ],
   "source": [
    "from scipy.special import erfc\n",
    "from scipy.spatial import cKDTree\n",
    "import math\n",
    "from geopy import distance\n",
    "\n",
    "# Parameters for Availability Probability\n",
    "P_transmit = 40  # dBm (transmitter power)\n",
    "P_threshold = -95  # dBm (receiver sensitivity threshold)\n",
    "frequency = 5.06  # GHz (transmission frequency)\n",
    "sigma = 5  # Standard deviation for noise/randomness in received power\n",
    "\n",
    "# Importing airport data\n",
    "df = pd.read_csv(\"data/misc/top_75_airports_coords_CONUS.csv\", delimiter=',', low_memory=False)\n",
    "airport_coords = df[['lat', 'lon']].to_numpy()\n",
    "\n",
    "# Build a KDTree for efficient nearest-neighbor queries\n",
    "airport_tree = cKDTree(airport_coords)\n",
    "\n",
    "def fspl_calculation(lat, lon, alt, frequency, airport_tree):\n",
    "    # Find the closest airport using KDTree\n",
    "    _, idx = airport_tree.query([lat, lon])\n",
    "    nearest_airport_coords = airport_coords[idx]\n",
    "    \n",
    "    # Calculate great-circle distance\n",
    "    ground_distance_km = distance.distance((lat, lon), nearest_airport_coords).km\n",
    "   \n",
    "    # Account for altitude in total distance\n",
    "    total_distance_km = math.sqrt(ground_distance_km**2 + ((alt * 0.3048) / 1000)**2)\n",
    "    \n",
    "    # Free Space Path Loss (FSPL)\n",
    "    fspl = (\n",
    "        20 * math.log10(total_distance_km)\n",
    "        + 20 * math.log10(frequency)\n",
    "        + 92.45\n",
    "    )\n",
    "    return fspl\n",
    "\n",
    "# Q-function for availability probability\n",
    "def Q(x):\n",
    "    return 0.5 * erfc(x / np.sqrt(2))\n",
    "\n",
    "# Create a 3D grid for lat, lon, and altitude\n",
    "lon_range = np.linspace(-130, -60, 751)  # Longitude\n",
    "lat_range = np.linspace(20, 55, 351)     # Latitude\n",
    "alt_range = np.linspace(0, 30000, 31)    # Altitude in meters (0 to 30,000 feet)\n",
    "\n",
    "# Preallocate a 3D array\n",
    "availability_grid = np.zeros((len(lat_range), len(lon_range), len(alt_range)))\n",
    "outage_grid = np.zeros((len(lat_range), len(lon_range), len(alt_range)))\n",
    "\n",
    "# Compute FSPL and Availability Probability for the entire grid\n",
    "for k, alt in enumerate(alt_range):\n",
    "    for j, lat in enumerate(lat_range):\n",
    "        for i, lon in enumerate(lon_range):\n",
    "            fspl = fspl_calculation(lat, lon, alt, frequency, airport_tree)\n",
    "            P_received = P_transmit - fspl\n",
    "            P_outage = Q((P_received - P_threshold) / sigma)\n",
    "            outage_grid[j,i,k] = P_outage\n",
    "            P_available = 1 - P_outage\n",
    "            availability_grid[j, i, k] = P_available\n",
    "\n",
    "\n",
    "# Flatten the grid and create corresponding latitude, longitude, and altitude arrays\n",
    "lats, lons, alts = np.meshgrid(lat_range, lon_range, alt_range, indexing='ij')\n",
    "lats_flat = lats.ravel()\n",
    "lons_flat = lons.ravel()\n",
    "alts_flat = alts.ravel()\n",
    "availability_flat = availability_grid.ravel()\n",
    "outage_flat = outage_grid.ravel()\n",
    "\n",
    "# Create a DataFrame\n",
    "output_df = pd.DataFrame({\n",
    "    'Latitude': lats_flat,\n",
    "    'Longitude': lons_flat,\n",
    "    'Altitude': alts_flat,\n",
    "    'Outage': outage_flat\n",
    "})\n",
    "\n",
    "# Save to CSV\n",
    "output_df.to_csv(f'{P_transmit}_outage_data.csv', index=False)"
   ]
  },
  {
   "cell_type": "markdown",
   "metadata": {},
   "source": [
    "## Creating Risk Map"
   ]
  },
  {
   "cell_type": "markdown",
   "metadata": {},
   "source": [
    "**Background**"
   ]
  },
  {
   "cell_type": "markdown",
   "metadata": {},
   "source": [
    "From \"Safety Considerations for Operations of UAVs in the NAS\" by Weibel and Hansman (2005)"
   ]
  },
  {
   "cell_type": "markdown",
   "metadata": {},
   "source": [
    "\n",
    "$$\\text{Risk} = P_{\\text{outage}} * A_{\\text{exp}} * \\rho * P_{\\text{pen}} * (1 - P_{\\text{mit}})$$"
   ]
  },
  {
   "cell_type": "markdown",
   "metadata": {},
   "source": [
    "Where:\n",
    "\n",
    "$P_{\\text{outage}}$ is the probability of an outage.\n",
    "$A_{\\text{exp}}$ is average area of exposure. \n",
    "$\\rho$ population density of the area (people per square foot).\n",
    "$P_{\\text{pen}}$ is the penetration factor.\n",
    "$P_{\\text{mit}}$ is the mitigation factor."
   ]
  },
  {
   "cell_type": "code",
   "execution_count": null,
   "metadata": {},
   "outputs": [],
   "source": [
    "from shapely.geometry import Point\n",
    "from shapely import wkt\n",
    "from geopy.distance import geodesic\n",
    "import geopandas as gpd\n",
    "\n",
    "# Constants\n",
    "P_transmit = 40  # dBm\n",
    "P_threshold = -95  # dBm\n",
    "sigma = 5  # Standard deviation\n",
    "frequency = 5.06  # GHz\n",
    "A_exp = 287 * 3.587e-8  # miles squared\n",
    "P_pen = 0.678  # Penetration probability\n",
    "P_mit = 0  # Mitigation probability\n",
    "\n",
    "# Import airport data\n",
    "df = pd.read_csv(\"data/misc/top_75_airports_coords_CONUS.csv\", delimiter=',', low_memory=False)\n",
    "airport_coords = df[['lat', 'lon']].to_numpy()\n",
    "airport_tree = cKDTree(airport_coords)\n",
    "\n",
    "# Load population density data\n",
    "df_population = pd.read_csv('data/misc/census_population_density.csv')\n",
    "df_population['geometry'] = df_population['geometry'].apply(wkt.loads)\n",
    "gdf_population = gpd.GeoDataFrame(df_population, geometry='geometry')\n",
    "\n",
    "# Create spatial index for population density polygons\n",
    "population_index = gdf_population.sindex\n",
    "\n",
    "# Grid definition\n",
    "lon_range = np.linspace(-130, -60, 701)  # Longitude\n",
    "lat_range = np.linspace(20, 55, 351)  # Latitude\n",
    "alt_range = np.linspace(0, 30000, 31)  # Altitude (Every 1000 feet)\n",
    "\n",
    "# Initialize results\n",
    "risk_data = []\n",
    "\n",
    "# Iterate through the grid\n",
    "for lon in lon_range:\n",
    "    for lat in lat_range:\n",
    "        for alt in alt_range:\n",
    "            # Find nearest airport\n",
    "            _, idx = airport_tree.query([lat, lon])\n",
    "            nearest_airport_coords = airport_coords[idx]\n",
    "\n",
    "            # Great-circle distance\n",
    "            ground_distance_km = geodesic((lat, lon), nearest_airport_coords).km\n",
    "            total_distance_km = np.sqrt(ground_distance_km**2 + ((alt * 0.3048) / 1000)**2)\n",
    "\n",
    "            # FSPL calculation\n",
    "            fspl = 20 * np.log10(total_distance_km) + 20 * np.log10(frequency) + 92.45\n",
    "\n",
    "            # Outage probability\n",
    "            P_received = P_transmit - fspl\n",
    "            P_outage = 0.5 * erfc((P_received - P_threshold) / (np.sqrt(2) * sigma))\n",
    "\n",
    "            # Population density lookup\n",
    "            point = Point(lon, lat)\n",
    "            possible_matches_idx = list(population_index.intersection(point.bounds))\n",
    "            possible_matches = gdf_population.iloc[possible_matches_idx]\n",
    "            match = possible_matches[possible_matches.contains(point)]\n",
    "            population_density = match['population_density'].values[0] if not match.empty else 0\n",
    "\n",
    "            # Expected Level of Service\n",
    "            risk = P_outage * A_exp * population_density * P_pen * (1 - P_mit)\n",
    "\n",
    "            # Append to results\n",
    "            risk_data.append({'Latitude': lat, 'Longitude': lon, 'Altitude': alt, 'Risk': risk})\n",
    "\n",
    "# Convert results to DataFrame\n",
    "output_df = pd.DataFrame(risk_data)\n",
    "\n",
    "# Save to CSV\n",
    "output_df.to_csv(f'{P_transmit}_risk_data.csv', index=False)"
   ]
  }
 ],
 "metadata": {
  "kernelspec": {
   "display_name": "census",
   "language": "python",
   "name": "python3"
  },
  "language_info": {
   "codemirror_mode": {
    "name": "ipython",
    "version": 3
   },
   "file_extension": ".py",
   "mimetype": "text/x-python",
   "name": "python",
   "nbconvert_exporter": "python",
   "pygments_lexer": "ipython3",
   "version": "3.13.0"
  }
 },
 "nbformat": 4,
 "nbformat_minor": 2
}
